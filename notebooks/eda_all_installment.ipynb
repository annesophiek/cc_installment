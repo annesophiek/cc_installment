{
 "cells": [
  {
   "cell_type": "code",
   "execution_count": 3,
   "metadata": {
    "pycharm": {
     "is_executing": false
    }
   },
   "outputs": [],
   "source": [
    "\n",
    "from google.cloud import bigquery\n",
    "from google.cloud import bigquery_storage_v1beta1\n",
    "from google.oauth2 import service_account\n",
    "import pandas as pd\n",
    "import numpy as np\n",
    "import matplotlib.pyplot as plt\n",
    "import seaborn as sns"
   ]
  },
  {
   "cell_type": "code",
   "execution_count": 4,
   "metadata": {
    "pycharm": {
     "is_executing": false,
     "name": "#%%\n"
    }
   },
   "outputs": [],
   "source": [
    "# -- Setting up BQ connection\n",
    "key_path = \"/Users/annesophie.karmel/service_account_gcp/tvlk-data-payment-dev-4b50fd9a14e9.json\"\n",
    "credentials = service_account.Credentials.from_service_account_file(\n",
    "     key_path,\n",
    "     scopes=[\"https://www.googleapis.com/auth/cloud-platform\"],\n",
    ")\n",
    "\n",
    "client = bigquery.Client(\n",
    "    project=credentials.project_id,\n",
    "    credentials=credentials\n",
    ")\n",
    "\n",
    "bqstorageclient = bigquery_storage_v1beta1.BigQueryStorageClient(\n",
    "    credentials=credentials\n",
    ")\n",
    "\n",
    "job_config = bigquery.QueryJobConfig(dry_run=True, use_query_cache=False)"
   ]
  },
  {
   "cell_type": "code",
   "execution_count": 5,
   "metadata": {
    "pycharm": {
     "is_executing": false,
     "name": "#%%\n"
    }
   },
   "outputs": [],
   "source": [
    "# -- Upload the data\n",
    "sql_query = ('''SELECT * FROM `tvlk-data-payment-dev.ask_playground.tx_mycards_ins_users_180d_032020` \n",
    "    where payment_dt >= date_sub(current_date, interval 30 day) ''')\n",
    "query_job = client.query(sql_query)  # API request\n",
    "df = query_job.to_dataframe(bqstorage_client=bqstorageclient)"
   ]
  },
  {
   "cell_type": "code",
   "execution_count": 6,
   "metadata": {
    "pycharm": {
     "is_executing": false,
     "name": "#%%\n"
    }
   },
   "outputs": [
    {
     "data": {
      "text/html": [
       "<div>\n",
       "<style scoped>\n",
       "    .dataframe tbody tr th:only-of-type {\n",
       "        vertical-align: middle;\n",
       "    }\n",
       "\n",
       "    .dataframe tbody tr th {\n",
       "        vertical-align: top;\n",
       "    }\n",
       "\n",
       "    .dataframe thead th {\n",
       "        text-align: right;\n",
       "    }\n",
       "</style>\n",
       "<table border=\"1\" class=\"dataframe\">\n",
       "  <thead>\n",
       "    <tr style=\"text-align: right;\">\n",
       "      <th></th>\n",
       "      <th>invoice_id</th>\n",
       "      <th>profile_id</th>\n",
       "      <th>payment_method</th>\n",
       "      <th>payment_scope</th>\n",
       "      <th>saved_payment_method</th>\n",
       "      <th>selected_installment</th>\n",
       "      <th>product_type</th>\n",
       "      <th>currency</th>\n",
       "      <th>amount</th>\n",
       "      <th>payment_dt</th>\n",
       "    </tr>\n",
       "  </thead>\n",
       "  <tbody>\n",
       "    <tr>\n",
       "      <td>0</td>\n",
       "      <td>1659976392910075468</td>\n",
       "      <td>13220494</td>\n",
       "      <td>BCA_KLIKPAY</td>\n",
       "      <td>BCA_KLIKPAY</td>\n",
       "      <td>None</td>\n",
       "      <td>None</td>\n",
       "      <td>TRAIN</td>\n",
       "      <td>IDR</td>\n",
       "      <td>107359</td>\n",
       "      <td>2020-03-01</td>\n",
       "    </tr>\n",
       "    <tr>\n",
       "      <td>1</td>\n",
       "      <td>1659980987052873544</td>\n",
       "      <td>15946217</td>\n",
       "      <td>ONEPAY</td>\n",
       "      <td>onepay</td>\n",
       "      <td>None</td>\n",
       "      <td>None</td>\n",
       "      <td>FLIGHT</td>\n",
       "      <td>VND</td>\n",
       "      <td>1166221</td>\n",
       "      <td>2020-03-01</td>\n",
       "    </tr>\n",
       "    <tr>\n",
       "      <td>2</td>\n",
       "      <td>1659929385609754188</td>\n",
       "      <td>144099145</td>\n",
       "      <td>CREDIT_CARD</td>\n",
       "      <td>cybersource_bni_2d_IDR_in6</td>\n",
       "      <td>NOT_USING</td>\n",
       "      <td>REGULER-BNI-6BLN</td>\n",
       "      <td>TRAIN</td>\n",
       "      <td>IDR</td>\n",
       "      <td>929207</td>\n",
       "      <td>2020-03-01</td>\n",
       "    </tr>\n",
       "    <tr>\n",
       "      <td>3</td>\n",
       "      <td>1659956423592800849</td>\n",
       "      <td>154775302</td>\n",
       "      <td>CREDIT_CARD</td>\n",
       "      <td>cybersource_vietin_3ds_VND</td>\n",
       "      <td>NOT_USING</td>\n",
       "      <td>None</td>\n",
       "      <td>HOTEL</td>\n",
       "      <td>VND</td>\n",
       "      <td>1079435</td>\n",
       "      <td>2020-03-01</td>\n",
       "    </tr>\n",
       "    <tr>\n",
       "      <td>4</td>\n",
       "      <td>1659917617563987553</td>\n",
       "      <td>161183675</td>\n",
       "      <td>None</td>\n",
       "      <td>kasikorn_THB</td>\n",
       "      <td>None</td>\n",
       "      <td>None</td>\n",
       "      <td>FLIGHT</td>\n",
       "      <td>THB</td>\n",
       "      <td>127018</td>\n",
       "      <td>2020-03-01</td>\n",
       "    </tr>\n",
       "  </tbody>\n",
       "</table>\n",
       "</div>"
      ],
      "text/plain": [
       "            invoice_id  profile_id payment_method               payment_scope  \\\n",
       "0  1659976392910075468    13220494    BCA_KLIKPAY                 BCA_KLIKPAY   \n",
       "1  1659980987052873544    15946217         ONEPAY                      onepay   \n",
       "2  1659929385609754188   144099145    CREDIT_CARD  cybersource_bni_2d_IDR_in6   \n",
       "3  1659956423592800849   154775302    CREDIT_CARD  cybersource_vietin_3ds_VND   \n",
       "4  1659917617563987553   161183675           None                kasikorn_THB   \n",
       "\n",
       "  saved_payment_method selected_installment product_type currency   amount  \\\n",
       "0                 None                 None        TRAIN      IDR   107359   \n",
       "1                 None                 None       FLIGHT      VND  1166221   \n",
       "2            NOT_USING     REGULER-BNI-6BLN        TRAIN      IDR   929207   \n",
       "3            NOT_USING                 None        HOTEL      VND  1079435   \n",
       "4                 None                 None       FLIGHT      THB   127018   \n",
       "\n",
       "   payment_dt  \n",
       "0  2020-03-01  \n",
       "1  2020-03-01  \n",
       "2  2020-03-01  \n",
       "3  2020-03-01  \n",
       "4  2020-03-01  "
      ]
     },
     "execution_count": 6,
     "metadata": {},
     "output_type": "execute_result"
    }
   ],
   "source": [
    "df.head()"
   ]
  },
  {
   "cell_type": "code",
   "execution_count": 7,
   "metadata": {},
   "outputs": [],
   "source": [
    "# -- Upload the data (month by month)\n",
    "sql_query = ('''SELECT * FROM `tvlk-data-payment-dev.ask_playground.tx_mycards_ins_users_180d_032020` \n",
    "    where payment_dt >= date_sub(date_sub(current_date, interval 30 day),interval 30 day) ''')\n",
    "query_job = client.query(sql_query)  # API request\n",
    "df_60d_30d = query_job.to_dataframe(bqstorage_client=bqstorageclient)"
   ]
  },
  {
   "cell_type": "code",
   "execution_count": 8,
   "metadata": {},
   "outputs": [],
   "source": [
    "# -- Upload the data\n",
    "sql_query = ('''SELECT * FROM `tvlk-data-payment-dev.ask_playground.tx_mycards_ins_users_180d_032020` \n",
    "    where payment_dt >=date_sub(date_sub(current_date, interval 60 day),interval 30 day) ''')\n",
    "query_job = client.query(sql_query)  # API request\n",
    "df_90d_30d = query_job.to_dataframe(bqstorage_client=bqstorageclient)"
   ]
  },
  {
   "cell_type": "code",
   "execution_count": 9,
   "metadata": {},
   "outputs": [],
   "source": [
    "# -- Upload the data\n",
    "sql_query = ('''SELECT * FROM `tvlk-data-payment-dev.ask_playground.tx_mycards_ins_users_180d_032020` \n",
    "    where payment_dt >=date_sub(date_sub(current_date, interval 90 day),interval 30 day) ''')\n",
    "query_job = client.query(sql_query)  # API request\n",
    "df_120d_30d = query_job.to_dataframe(bqstorage_client=bqstorageclient)"
   ]
  },
  {
   "cell_type": "code",
   "execution_count": 10,
   "metadata": {},
   "outputs": [],
   "source": [
    "# -- Upload the data\n",
    "sql_query = ('''SELECT * FROM `tvlk-data-payment-dev.ask_playground.tx_mycards_ins_users_180d_032020` \n",
    "    where payment_dt >=date_sub(date_sub(current_date, interval 120 day),interval 30 day) ''')\n",
    "query_job = client.query(sql_query)  # API request\n",
    "df_150d_30d = query_job.to_dataframe(bqstorage_client=bqstorageclient)"
   ]
  },
  {
   "cell_type": "code",
   "execution_count": 11,
   "metadata": {},
   "outputs": [],
   "source": [
    "# -- Upload the data\n",
    "sql_query = ('''SELECT * FROM `tvlk-data-payment-dev.ask_playground.tx_mycards_ins_users_180d_032020` \n",
    "    where payment_dt >=date_sub(date_sub(current_date, interval 150 day),interval 30 day) ''')\n",
    "query_job = client.query(sql_query)  # API request\n",
    "df_180d_30d = query_job.to_dataframe(bqstorage_client=bqstorageclient)"
   ]
  },
  {
   "cell_type": "code",
   "execution_count": 12,
   "metadata": {},
   "outputs": [],
   "source": [
    "df_transform = df.copy()"
   ]
  },
  {
   "cell_type": "code",
   "execution_count": 13,
   "metadata": {},
   "outputs": [],
   "source": [
    "df_transform = df_transform.append(df_60d_30d)"
   ]
  },
  {
   "cell_type": "code",
   "execution_count": 14,
   "metadata": {},
   "outputs": [],
   "source": [
    "df_transform = df_transform.append(df_90d_30d)\n",
    "df_transform = df_transform.append(df_120d_30d)\n",
    "df_transform = df_transform.append(df_150d_30d)"
   ]
  },
  {
   "cell_type": "code",
   "execution_count": 15,
   "metadata": {
    "pycharm": {
     "name": "#%%\n"
    }
   },
   "outputs": [],
   "source": [
    "# Setting the index in datetime format\n",
    "df_transform['payment_dt']=pd.to_datetime(df_transform['payment_dt'],format='%Y-%m-%d')\n",
    "df_transform = df_transform.set_index(pd.DatetimeIndex(df_transform['payment_dt']))"
   ]
  },
  {
   "cell_type": "code",
   "execution_count": 16,
   "metadata": {},
   "outputs": [
    {
     "data": {
      "text/plain": [
       "Timestamp('2019-10-06 00:00:00')"
      ]
     },
     "execution_count": 16,
     "metadata": {},
     "output_type": "execute_result"
    }
   ],
   "source": [
    "df_transform.payment_dt.min()"
   ]
  },
  {
   "cell_type": "code",
   "execution_count": 21,
   "metadata": {},
   "outputs": [],
   "source": [
    "df_transform.to_csv('../data/cc_instalment_profiles.csv', index=False)  "
   ]
  },
  {
   "cell_type": "code",
   "execution_count": 33,
   "metadata": {},
   "outputs": [
    {
     "data": {
      "text/plain": [
       "<matplotlib.axes._subplots.AxesSubplot at 0x124aba090>"
      ]
     },
     "execution_count": 33,
     "metadata": {},
     "output_type": "execute_result"
    },
    {
     "data": {
      "image/png": "[encoded data removed]",
      "text/plain": [
       "<Figure size 432x288 with 1 Axes>"
      ]
     },
     "metadata": {
      "needs_background": "light"
     },
     "output_type": "display_data"
    }
   ],
   "source": [
    "df_transform[df_transform['currency']=='IDR']['amount'].resample('W').mean().plot.bar()"
   ]
  },
  {
   "cell_type": "code",
   "execution_count": 34,
   "metadata": {},
   "outputs": [
    {
     "data": {
      "text/plain": [
       "<matplotlib.axes._subplots.AxesSubplot at 0x143995fd0>"
      ]
     },
     "execution_count": 34,
     "metadata": {},
     "output_type": "execute_result"
    },
    {
     "data": {
      "image/png": "[encoded data removed]",
      "text/plain": [
       "<Figure size 432x288 with 1 Axes>"
      ]
     },
     "metadata": {
      "needs_background": "light"
     },
     "output_type": "display_data"
    }
   ],
   "source": [
    "df_transform[~df_transform['selected_installment'].isna()]['amount'].resample('W').mean().plot.bar()"
   ]
  },
  {
   "cell_type": "code",
   "execution_count": 2,
   "metadata": {},
   "outputs": [
    {
     "ename": "NameError",
     "evalue": "name 'df_transform' is not defined",
     "output_type": "error",
     "traceback": [
      "\u001b[0;31m---------------------------------------------------------------------------\u001b[0m",
      "\u001b[0;31mNameError\u001b[0m                                 Traceback (most recent call last)",
      "\u001b[0;32m<ipython-input-2-a254041d19a2>\u001b[0m in \u001b[0;36m<module>\u001b[0;34m\u001b[0m\n\u001b[0;32m----> 1\u001b[0;31m \u001b[0mdf_transform\u001b[0m\u001b[0;34m[\u001b[0m\u001b[0mdf_transform\u001b[0m\u001b[0;34m[\u001b[0m\u001b[0;34m'payment_method'\u001b[0m\u001b[0;34m]\u001b[0m\u001b[0;34m==\u001b[0m\u001b[0;34m'CREDIT_CARD'\u001b[0m\u001b[0;34m]\u001b[0m\u001b[0;34m[\u001b[0m\u001b[0;34m'amount'\u001b[0m\u001b[0;34m]\u001b[0m\u001b[0;34m.\u001b[0m\u001b[0mresample\u001b[0m\u001b[0;34m(\u001b[0m\u001b[0;34m'W'\u001b[0m\u001b[0;34m)\u001b[0m\u001b[0;34m.\u001b[0m\u001b[0mmean\u001b[0m\u001b[0;34m(\u001b[0m\u001b[0;34m)\u001b[0m\u001b[0;34m.\u001b[0m\u001b[0mplot\u001b[0m\u001b[0;34m.\u001b[0m\u001b[0mbar\u001b[0m\u001b[0;34m(\u001b[0m\u001b[0;34m)\u001b[0m\u001b[0;34m\u001b[0m\u001b[0;34m\u001b[0m\u001b[0m\n\u001b[0m",
      "\u001b[0;31mNameError\u001b[0m: name 'df_transform' is not defined"
     ]
    }
   ],
   "source": [
    "df_transform[df_transform['payment_method']=='CREDIT_CARD']['amount'].resample('W').mean().plot.bar()"
   ]
  },
  {
   "cell_type": "code",
   "execution_count": null,
   "metadata": {},
   "outputs": [],
   "source": []
  }
 ],
 "metadata": {
  "kernelspec": {
   "display_name": "Python 3",
   "language": "python",
   "name": "python3"
  },
  "language_info": {
   "codemirror_mode": {
    "name": "ipython",
    "version": 3
   },
   "file_extension": ".py",
   "mimetype": "text/x-python",
   "name": "python",
   "nbconvert_exporter": "python",
   "pygments_lexer": "ipython3",
   "version": "3.7.6"
  },
  "pycharm": {
   "stem_cell": {
    "cell_type": "raw",
    "metadata": {
     "collapsed": false
    },
    "source": []
   }
  }
 },
 "nbformat": 4,
 "nbformat_minor": 1
}
